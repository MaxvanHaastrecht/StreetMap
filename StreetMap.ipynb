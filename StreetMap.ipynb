{
 "cells": [
  {
   "cell_type": "code",
   "execution_count": null,
   "metadata": {},
   "outputs": [],
   "source": [
    "import pandas as pd\n",
    "import geopandas as gpd\n",
    "import matplotlib.pyplot as plt"
   ]
  },
  {
   "cell_type": "code",
   "execution_count": null,
   "metadata": {},
   "outputs": [],
   "source": [
    "# Import all roads NL\n",
    "map_df = gpd.read_file('roads.shp')\n",
    "# Show data format\n",
    "map_df.head()"
   ]
  },
  {
   "cell_type": "code",
   "execution_count": null,
   "metadata": {},
   "outputs": [],
   "source": [
    "# Store lat long for different cities\n",
    "# X diff 350\n",
    "# Y diff 495\n",
    "latlon = {}\n",
    "latlon['Doetinchem'] = [6.2700, 6.3050, 51.9355, 51.9850]\n",
    "latlon['Groningen'] = [6.5480, 6.5830, 53.1960, 53.2455]\n",
    "latlon['Utrecht'] = [5.1050, 5.1400, 52.0620, 52.1115]\n",
    "latlon['Zwolle'] = [6.0730, 6.1080, 52.4900, 52.5395]\n",
    "\n",
    "# Store color palettes for cities\n",
    "colors = {}\n",
    "colors['Doetinchem'] = 'summer'\n",
    "colors['Groningen'] = 'autumn'\n",
    "colors['Utrecht'] = 'Wistia'\n",
    "colors['Zwolle'] = 'winter'"
   ]
  },
  {
   "cell_type": "code",
   "execution_count": null,
   "metadata": {},
   "outputs": [],
   "source": [
    "# Plot roads in particular city of NL\n",
    "city = 'Zwolle'\n",
    "\n",
    "fig, ax = plt.subplots(1, figsize=(80,112))\n",
    "map_df.plot(cmap=colors[city], ax=ax)\n",
    "ax.axis('off')\n",
    "ax.set_xlim(latlon[city][0], latlon[city][1])\n",
    "ax.set_ylim(latlon[city][2], latlon[city][3])\n",
    "ax.set_aspect('equal')\n",
    "\n",
    "plt.show()"
   ]
  }
 ],
 "metadata": {
  "kernelspec": {
   "display_name": "Python 3",
   "language": "python",
   "name": "python3"
  },
  "language_info": {
   "codemirror_mode": {
    "name": "ipython",
    "version": 3
   },
   "file_extension": ".py",
   "mimetype": "text/x-python",
   "name": "python",
   "nbconvert_exporter": "python",
   "pygments_lexer": "ipython3",
   "version": "3.7.7"
  }
 },
 "nbformat": 4,
 "nbformat_minor": 2
}
