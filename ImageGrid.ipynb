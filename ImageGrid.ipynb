{
 "cells": [
  {
   "cell_type": "code",
   "execution_count": null,
   "metadata": {},
   "outputs": [],
   "source": [
    "from PIL import Image"
   ]
  },
  {
   "cell_type": "code",
   "execution_count": null,
   "metadata": {},
   "outputs": [],
   "source": [
    "doetinchem = Image.open('doetinchem.png')\n",
    "groningen = Image.open('groningen.png')\n",
    "utrecht = Image.open('utrecht.png')\n",
    "zwolle = Image.open('zwolle.png')"
   ]
  },
  {
   "cell_type": "code",
   "execution_count": null,
   "metadata": {},
   "outputs": [],
   "source": [
    "# Retrieve width and height original images\n",
    "width = doetinchem.size[0]\n",
    "height = doetinchem.size[1]"
   ]
  },
  {
   "cell_type": "code",
   "execution_count": null,
   "metadata": {},
   "outputs": [],
   "source": [
    "# Create new image, twice as large in both dimensions\n",
    "new_im = Image.new('RGB', (width*2,height*2))"
   ]
  },
  {
   "cell_type": "code",
   "execution_count": null,
   "metadata": {},
   "outputs": [],
   "source": [
    "# Paste images in new image\n",
    "new_im.paste(doetinchem, (0,0))\n",
    "new_im.paste(groningen, (width,0))\n",
    "new_im.paste(zwolle, (0,height))\n",
    "new_im.paste(utrecht, (width,height))"
   ]
  },
  {
   "cell_type": "code",
   "execution_count": null,
   "metadata": {},
   "outputs": [],
   "source": [
    "# Save as png and jpeg and show image\n",
    "new_im.save('city_grid.png', 'PNG', quality=95)\n",
    "new_im.save('city_grid.jpg', 'jpeg', quality=95)\n",
    "new_im.show()"
   ]
  }
 ],
 "metadata": {
  "kernelspec": {
   "display_name": "Python 3",
   "language": "python",
   "name": "python3"
  },
  "language_info": {
   "codemirror_mode": {
    "name": "ipython",
    "version": 3
   },
   "file_extension": ".py",
   "mimetype": "text/x-python",
   "name": "python",
   "nbconvert_exporter": "python",
   "pygments_lexer": "ipython3",
   "version": "3.7.7"
  }
 },
 "nbformat": 4,
 "nbformat_minor": 4
}
