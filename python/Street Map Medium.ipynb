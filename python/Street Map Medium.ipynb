{
 "cells": [
  {
   "cell_type": "markdown",
   "id": "e62fc080",
   "metadata": {},
   "source": [
    "## Import Packages"
   ]
  },
  {
   "cell_type": "code",
   "execution_count": null,
   "id": "7351e6a2",
   "metadata": {},
   "outputs": [],
   "source": [
    "import geopandas as gpd\n",
    "import matplotlib.pyplot as plt"
   ]
  },
  {
   "cell_type": "markdown",
   "id": "0e7ec538",
   "metadata": {},
   "source": [
    "## Import Data"
   ]
  },
  {
   "cell_type": "code",
   "execution_count": null,
   "id": "2baab167",
   "metadata": {},
   "outputs": [],
   "source": [
    "# Import all roads NL\n",
    "map_df = gpd.read_file('roads.shp')\n",
    "# Show data format\n",
    "map_df.head()"
   ]
  },
  {
   "cell_type": "markdown",
   "id": "6eb9a52b",
   "metadata": {},
   "source": [
    "## Plot Street Map"
   ]
  },
  {
   "cell_type": "code",
   "execution_count": null,
   "id": "a05c11a1",
   "metadata": {},
   "outputs": [],
   "source": [
    "# Set image properties\n",
    "fig, ax = plt.subplots(1, figsize=(10,14))\n",
    "map_df.plot(cmap='Wistia', ax=ax)\n",
    "ax.axis('off')\n",
    "\n",
    "# Set coordinates to match Utrecht, change for your own city\n",
    "ax.set_xlim(5.1050, 5.1400)\n",
    "ax.set_ylim(52.0620, 52.1115)\n",
    "ax.set_aspect('equal')\n",
    "\n",
    "# Plot the street map of Utrecht\n",
    "plt.show()"
   ]
  },
  {
   "cell_type": "markdown",
   "id": "b7b586b8",
   "metadata": {},
   "source": [
    "## Plotting Grid of Cities"
   ]
  },
  {
   "cell_type": "code",
   "execution_count": null,
   "id": "28a88d0a",
   "metadata": {},
   "outputs": [],
   "source": [
    "from PIL import Image"
   ]
  },
  {
   "cell_type": "code",
   "execution_count": null,
   "id": "25a788eb",
   "metadata": {},
   "outputs": [],
   "source": [
    "# Load created images; for example 4\n",
    "utrecht1 = Image.open('Utrecht.png')\n",
    "utrecht2 = Image.open('Utrecht.png')\n",
    "utrecht3 = Image.open('Utrecht.png')\n",
    "utrecht4 = Image.open('Utrecht.png')"
   ]
  },
  {
   "cell_type": "code",
   "execution_count": null,
   "id": "cf8dcb7f",
   "metadata": {},
   "outputs": [],
   "source": [
    "# Retrieve width and height original images\n",
    "width = utrecht1.size[0]\n",
    "height = utrecht1.size[1]"
   ]
  },
  {
   "cell_type": "code",
   "execution_count": null,
   "id": "62a4ae60",
   "metadata": {},
   "outputs": [],
   "source": [
    "# Create new image, twice as large in both dimensions\n",
    "new_im = Image.new('RGB', (width*2,height*2))\n",
    "\n",
    "# Paste images in new image\n",
    "new_im.paste(utrecht1, (0,0))\n",
    "new_im.paste(utrecht2, (width,0))\n",
    "new_im.paste(utrecht3, (0,height))\n",
    "new_im.paste(utrecht4, (width,height))\n",
    "\n",
    "# Show the new image of a grid of cities\n",
    "new_im.show()"
   ]
  }
 ],
 "metadata": {
  "kernelspec": {
   "display_name": "Python 3 (ipykernel)",
   "language": "python",
   "name": "python3"
  },
  "language_info": {
   "codemirror_mode": {
    "name": "ipython",
    "version": 3
   },
   "file_extension": ".py",
   "mimetype": "text/x-python",
   "name": "python",
   "nbconvert_exporter": "python",
   "pygments_lexer": "ipython3",
   "version": "3.7.11"
  }
 },
 "nbformat": 4,
 "nbformat_minor": 5
}
