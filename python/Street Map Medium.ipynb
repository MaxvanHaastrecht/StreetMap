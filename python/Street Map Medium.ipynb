{
 "cells": [
  {
   "cell_type": "markdown",
   "id": "0e7ec538",
   "metadata": {},
   "source": [
    "## Import Data"
   ]
  },
  {
   "cell_type": "code",
   "execution_count": null,
   "id": "2baab167",
   "metadata": {},
   "outputs": [],
   "source": [
    "import geopandas as gpd\n",
    "import matplotlib.pyplot as plt\n",
    "\n",
    "# Import all roads NL\n",
    "map_df = gpd.read_file('roads.shp')\n",
    "# Show data format\n",
    "map_df.head()"
   ]
  },
  {
   "cell_type": "markdown",
   "id": "6eb9a52b",
   "metadata": {},
   "source": [
    "## Plot Street Map"
   ]
  },
  {
   "cell_type": "code",
   "execution_count": null,
   "id": "a05c11a1",
   "metadata": {},
   "outputs": [],
   "source": [
    "# Store lat long for different cities\n",
    "# X diff 350\n",
    "# Y diff 495\n",
    "latlon = {}\n",
    "latlon['Amsterdam'] = [4.8700, 4.9050, 52.3345, 52.3840]\n",
    "latlon['The Hague'] = [4.2950, 4.3300, 52.0640, 52.1135]\n",
    "latlon['Rotterdam'] = [4.4350, 4.4700, 51.8935, 51.9430]\n",
    "latlon['Utrecht'] = [5.1050, 5.1400, 52.0620, 52.1115]\n",
    "\n",
    "# Store color palettes for cities\n",
    "colors = {}\n",
    "colors['Amsterdam'] = 'summer'\n",
    "colors['The Hague'] = 'autumn'\n",
    "colors['Rotterdam'] = 'winter'\n",
    "colors['Utrecht'] = 'Wistia'"
   ]
  },
  {
   "cell_type": "code",
   "execution_count": null,
   "id": "c6c7dfd0",
   "metadata": {},
   "outputs": [],
   "source": [
    "# Choose city\n",
    "city = 'Rotterdam'\n",
    "\n",
    "# Set image properties\n",
    "fig, ax = plt.subplots(1, figsize=(10,14))\n",
    "map_df.plot(cmap=colors[city], ax=ax)\n",
    "ax.axis('off')\n",
    "\n",
    "# Set coordinates\n",
    "ax.set_xlim(latlon[city][0], latlon[city][1])\n",
    "ax.set_ylim(latlon[city][2], latlon[city][3])\n",
    "ax.set_aspect('equal')\n",
    "\n",
    "# Plot the street map\n",
    "plt.show()"
   ]
  },
  {
   "cell_type": "markdown",
   "id": "b7b586b8",
   "metadata": {},
   "source": [
    "## Plotting Grid of Cities"
   ]
  },
  {
   "cell_type": "code",
   "execution_count": null,
   "id": "28a88d0a",
   "metadata": {},
   "outputs": [],
   "source": [
    "from PIL import Image"
   ]
  },
  {
   "cell_type": "code",
   "execution_count": null,
   "id": "25a788eb",
   "metadata": {},
   "outputs": [],
   "source": [
    "# Load created images; for example 4\n",
    "amsterdam = Image.open('Amsterdam.png')\n",
    "hague = Image.open('The_Hague.png')\n",
    "rotterdam = Image.open('Rotterdam.png')\n",
    "utrecht = Image.open('Utrecht.png')"
   ]
  },
  {
   "cell_type": "code",
   "execution_count": null,
   "id": "cf8dcb7f",
   "metadata": {},
   "outputs": [],
   "source": [
    "# Retrieve width and height original images\n",
    "width = amsterdam.size[0]\n",
    "height = amsterdam.size[1]"
   ]
  },
  {
   "cell_type": "code",
   "execution_count": null,
   "id": "62a4ae60",
   "metadata": {},
   "outputs": [],
   "source": [
    "# Create new image, twice as large in both dimensions\n",
    "new_im = Image.new('RGB', (width*2,height*2))\n",
    "\n",
    "# Paste images in new image\n",
    "new_im.paste(amsterdam, (0,0))\n",
    "new_im.paste(hague, (width,0))\n",
    "new_im.paste(rotterdam, (0,height))\n",
    "new_im.paste(utrecht, (width,height))\n",
    "\n",
    "# Save as png\n",
    "new_im.save('city_grid_medium.png', 'PNG', quality=95)"
   ]
  }
 ],
 "metadata": {
  "kernelspec": {
   "display_name": "Python 3 (ipykernel)",
   "language": "python",
   "name": "python3"
  },
  "language_info": {
   "codemirror_mode": {
    "name": "ipython",
    "version": 3
   },
   "file_extension": ".py",
   "mimetype": "text/x-python",
   "name": "python",
   "nbconvert_exporter": "python",
   "pygments_lexer": "ipython3",
   "version": "3.7.11"
  }
 },
 "nbformat": 4,
 "nbformat_minor": 5
}
